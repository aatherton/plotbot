{
 "cells": [
  {
   "cell_type": "code",
   "execution_count": 1,
   "metadata": {
    "collapsed": true
   },
   "outputs": [],
   "source": [
    "# import dependancies\n",
    "import tweepy, pandas, requests, os, json\n",
    "from matplotlib import pyplot as plt\n",
    "from vaderSentiment.vaderSentiment import SentimentIntensityAnalyzer"
   ]
  },
  {
   "cell_type": "code",
   "execution_count": 2,
   "metadata": {
    "collapsed": true
   },
   "outputs": [],
   "source": [
    "# declare globals\n",
    "ball = os.path.dirname(os.path.dirname(os.path.realpath('__file__')))\n",
    "ball = os.path.join(ball, \"keyring.json\")\n",
    "keyring = json.load(open(ball))[\"twitter\"]\n",
    "ball = tweepy.OAuthHandler(keyring[\"consumer\"][\"key\"], keyring[\"consumer\"][\"secret\"])\n",
    "ball.set_access_token(keyring[\"token\"], keyring[\"secret\"])\n",
    "# string containing the bot's account\n",
    "MY_ACCOUNT = \"@TAT_bot\"\n",
    "# container for the tweepy api\n",
    "API = tweepy.API(ball, parser=tweepy.parsers.JSONParser())\n",
    "# container for vader analyzer:\n",
    "ANALYZER = SentimentIntensityAnalyzer()\n",
    "# number of tweets to pull\n",
    "PULL_NUM = 500\n",
    "# place to save pics\n",
    "LOCATION = \"placeholder.png\"\n",
    "# time to wait, in seconds\n",
    "WAIT = 5*60\n",
    "# stores bad requests\n",
    "nogo = []"
   ]
  },
  {
   "cell_type": "code",
   "execution_count": 3,
   "metadata": {
    "collapsed": true
   },
   "outputs": [],
   "source": [
    "# declare functions"
   ]
  },
  {
   "cell_type": "code",
   "execution_count": 4,
   "metadata": {
    "collapsed": true
   },
   "outputs": [],
   "source": [
    "def scan(account, api):\n",
    "    \"\"\"scans the account for new mentions. returns a list: [success boolean, most recent tweet]\"\"\"\n",
    "    result = [False]\n",
    "    ball = api.search(account, count=1, result_type = \"recent\")\n",
    "    if ball[\"search_metadata\"][\"count\"] >= 1:\n",
    "        result[0] = True\n",
    "        result.append(ball[\"statuses\"][0])\n",
    "    return(result)"
   ]
  },
  {
   "cell_type": "code",
   "execution_count": 5,
   "metadata": {
    "collapsed": true
   },
   "outputs": [],
   "source": [
    "def parse(tweet, account):\n",
    "    \"\"\"takes a tweet. looks for an accounts' mention and returns the first one that's not the input account\"\"\"\n",
    "    result = []\n",
    "    for each in tweet[\"entities\"][\"user_mentions\"]:\n",
    "        result.append(f\"@{each['screen_name']}\")\n",
    "    result.remove(account)\n",
    "    return(result[0])"
   ]
  },
  {
   "cell_type": "code",
   "execution_count": 6,
   "metadata": {},
   "outputs": [],
   "source": [
    "def request(account, n, api):\n",
    "    \"\"\"requests the n most recent tweets for the given account. returns list of tweets\"\"\"\n",
    "    result = []\n",
    "    ball = 0\n",
    "    while n >= 20:\n",
    "        result.extend(api.user_timeline(account, page= ball))\n",
    "        n -= 20\n",
    "        ball += 1\n",
    "    if n > 0:\n",
    "        result.extend(api.user_timeline(account, page= ball+1, count= n))\n",
    "    return(result)"
   ]
  },
  {
   "cell_type": "code",
   "execution_count": 7,
   "metadata": {
    "collapsed": true
   },
   "outputs": [],
   "source": [
    "def crunch(tweets):\n",
    "    \"\"\"processes data based on input. returns a Pandas DataFrame\"\"\"\n",
    "    result = []\n",
    "    for each in range(len(tweets)):\n",
    "        result.append({})\n",
    "        result[-1][\"Sentiment\"] = ANALYZER.polarity_scores(tweets[each][\"text\"])[\"compound\"]\n",
    "        result[-1][\"Tweets Ago\"] = 0-each\n",
    "    return(pandas.DataFrame(result))"
   ]
  },
  {
   "cell_type": "code",
   "execution_count": 8,
   "metadata": {
    "collapsed": true
   },
   "outputs": [],
   "source": [
    "def picture_this(data, title, location):\n",
    "    \"\"\"takes a Pandas DataFrame. makes a plot out of it. saves it to location\"\"\"\n",
    "    plt.scatter(data[\"Tweets Ago\"], data[\"Sentiment\"], marker = \"o\")\n",
    "    plt.xlabel(\"Tweets Ago\")\n",
    "    plt.ylabel(\"Sentiment\")\n",
    "    plt.grid(alpha = .25)\n",
    "    plt.title(\"Sentiment Analysis of Tweets for {}\".format(title))\n",
    "    plt.savefig(location)\n",
    "    return(True)"
   ]
  },
  {
   "cell_type": "code",
   "execution_count": 9,
   "metadata": {
    "collapsed": true
   },
   "outputs": [],
   "source": [
    "def chirp(location, account, api):\n",
    "    \"\"\"posts a tweet mentioning account with a picture at location attached\"\"\"\n",
    "    api.update_with_media(location, \"here's your stuff, @{account}\")"
   ]
  },
  {
   "cell_type": "code",
   "execution_count": 10,
   "metadata": {
    "collapsed": true
   },
   "outputs": [],
   "source": [
    "def sanity_check(tweet, nogo):\n",
    "    \"\"\"returns boolean\"\"\"\n",
    "    result = tweet[0]\n",
    "    try:\n",
    "        if parse(tweet[1]) in nogo:\n",
    "            result = False\n",
    "        request(parse(tweet[1]))\n",
    "    except:\n",
    "        result = False\n",
    "    return(result)"
   ]
  },
  {
   "cell_type": "code",
   "execution_count": 11,
   "metadata": {
    "collapsed": true
   },
   "outputs": [],
   "source": [
    "def main():\n",
    "    ball = scan(MY_ACCOUNT, API)\n",
    "    if sanity_check(ball, nogo):\n",
    "        nogo.append(parse(ball[1]))\n",
    "        picture_this(crunch(request(parse(ball[1]), PULL_NUM, API)), LOCATION)\n",
    "        chirp(LOCATION, ball[1][\"user\"][\"screen_name\"], API)"
   ]
  },
  {
   "cell_type": "code",
   "execution_count": null,
   "metadata": {
    "collapsed": true
   },
   "outputs": [],
   "source": []
  },
  {
   "cell_type": "code",
   "execution_count": 12,
   "metadata": {},
   "outputs": [],
   "source": [
    "# deploy functions\n",
    "while True:\n",
    "    time.sleep(WAIT)\n",
    "    main()"
   ]
  },
  {
   "cell_type": "code",
   "execution_count": 13,
   "metadata": {},
   "outputs": [
    {
     "data": {
      "text/plain": [
       "True"
      ]
     },
     "execution_count": 13,
     "metadata": {},
     "output_type": "execute_result"
    }
   ],
   "source": []
  }
 ],
 "metadata": {
  "kernelspec": {
   "display_name": "Python 3",
   "language": "python",
   "name": "python3"
  },
  "language_info": {
   "codemirror_mode": {
    "name": "ipython",
    "version": 3
   },
   "file_extension": ".py",
   "mimetype": "text/x-python",
   "name": "python",
   "nbconvert_exporter": "python",
   "pygments_lexer": "ipython3",
   "version": "3.6.3"
  }
 },
 "nbformat": 4,
 "nbformat_minor": 2
}
